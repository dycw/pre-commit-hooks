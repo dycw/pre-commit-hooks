{
 "cells": [
  {
   "cell_type": "code",
   "execution_count": null,
   "id": "polar-helen",
   "metadata": {},
   "outputs": [],
   "source": [
    "from typing import List\n",
    "from typing import Optional\n",
    "from typing import Set\n",
    "import logging\n",
    "from logging import info\n",
    "from os import environ\n",
    "from pathlib import Path\n",
    "from re import search\n",
    "from subprocess import check_output  # noqa:S404\n",
    "from subprocess import run  # noqa:S404\n",
    "from sys import stdout\n",
    "from typing import Iterator\n",
    "\n",
    "logging.getLogger(__file__)"
   ]
  },
  {
   "cell_type": "code",
   "execution_count": null,
   "id": "given-capacity",
   "metadata": {},
   "outputs": [],
   "source": [
    "basicConfig(\n",
    "    format=\"\\033[94m{asctime}\\033[0m {msg}\",\n",
    "    datefmt=\"%Y-%m-%d %H:%M:%S\",\n",
    "    style=\"{\",\n",
    "    level=DEBUG,\n",
    "    stream=stdout,\n",
    ")"
   ]
  }
 ],
 "metadata": {
  "kernelspec": {
   "display_name": "Python 3",
   "language": "python",
   "name": "python3"
  },
  "language_info": {
   "codemirror_mode": {
    "name": "ipython",
    "version": 3
   },
   "file_extension": ".py",
   "mimetype": "text/x-python",
   "name": "python",
   "nbconvert_exporter": "python",
   "pygments_lexer": "ipython3",
   "version": "3.9.1"
  }
 },
 "nbformat": 4,
 "nbformat_minor": 5
}
